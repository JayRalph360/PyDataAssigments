{
 "cells": [
  {
   "cell_type": "code",
   "execution_count": 1,
   "id": "f07b3102",
   "metadata": {},
   "outputs": [],
   "source": [
    "# using selenium to fetch product names, price and links of computers\n",
    "from selenium import webdriver"
   ]
  },
  {
   "cell_type": "code",
   "execution_count": 2,
   "id": "7f8d6c79",
   "metadata": {},
   "outputs": [],
   "source": [
    "url = 'https://www.jumia.com.gh/computing-accessories/'"
   ]
  },
  {
   "cell_type": "code",
   "execution_count": 3,
   "id": "d53c0431",
   "metadata": {},
   "outputs": [],
   "source": [
    "driver = webdriver.Chrome()"
   ]
  },
  {
   "cell_type": "code",
   "execution_count": 4,
   "id": "f62c26d0",
   "metadata": {},
   "outputs": [],
   "source": [
    "# Set an implicit wait\n",
    "driver.implicitly_wait(10)\n",
    "driver.get(url) # launches a web browser and get url"
   ]
  },
  {
   "cell_type": "code",
   "execution_count": 5,
   "id": "72c8dec5",
   "metadata": {},
   "outputs": [
    {
     "name": "stderr",
     "output_type": "stream",
     "text": [
      "<ipython-input-5-c59631bd298c>:2: DeprecationWarning: find_elements_by_xpath is deprecated. Please use find_elements(by=By.XPATH, value=xpath) instead\n",
      "  product = [name.text for name in driver.find_elements_by_xpath(\"//h3\")]\n"
     ]
    },
    {
     "name": "stdout",
     "output_type": "stream",
     "text": [
      "['Hxsj USB Wired Optical Colorful Light Gaming Mouse', '4-Ports High Speed Data Transfer Rate USB Hub', 'M30 Rechargeable 2.4GHz Wireless Mouse - Silver', 'Soft Touch Wireless Keyboard & Mouse Combo - Black + Free BT Headphone', 'ammoon Dual Channel VHF Wireless Handheld Microphone System', 'Wireless Keyboard with Mouse Combo - Black', 'DELL Wireless Slim Optical Mouse - Black', 'DELL Wireless Optical Mouse - Black Plus Free Earpiece And Battery', 'Wireless Keyboard & Mouse Combo - Black + Free 64GB Pendrive', 'Mini Wireless Keyboard/Touchpad with Backlight - Black', 'Mini AV2VGA Video Converter Convertor Box AV RCA CVBS to VGA', '1080P HDMI To VGA Adapter Converter Cable', 'Toshiba 3.0 USB External Hard Disk Enclosure Case - Black', '5-in-1 USB Hub Combo Splitter', 'Mini Wireless Bluetooth Keyboard - Android IOS Windows - 7 Inch', 'USB3.0 To VGA Adapter USB to VGA External Video Card', 'Black Mouse Mat Pad 24*20*0.15cm Antislip', 'KKmoon 2.4GHz Wireless PowerPoint Clicker Remote Controller', 'Wireless Keyboard & Mouse Combo + Free Wired Headphone - Black', '1080P HDMI Male To Dual HDMI Female 1 To 2 Way Splitter Cable Adapter Converter', 'Hp 123 Ink Cartridge - Black', 'Hp Wireless Keyboard and Mouse CS700 - Black', 'Logitech Silent Wireless Mouse - Black + Free Mouse Pad', 'Mouse Pad Desk Mat Extra Large Soft Extended Non Slip', 'Mini Computer Speaker 3D Stereo Sound Surround For PC Laptop Notebook', 'USB 3.0 Adapter For Laptop OTG Memory SD Card Reader', 'Mercury Elite 850va Pro Line Interactive UPS - Black', 'UCOM Vibration USB Wired Gamepad - Black', 'USB 3.0 Adapter Converter Cable Easy Drive Line to SATA3 2.5/3.5 Hard Disk Read IPFS Adapter', 'Bosto 10\"x6\" Controller Knob Graphic Tablet Kit 8 Express Keys', 'Lenovo M20 USB Optical Mouse - Black', 'Multipurpose Micro SD /USB OTG - white', 'Hp Wireless Mouse - Black', 'Wireless Keyboard & Mouse Combo - Black + FREE Bluetooth Speaker - Black', 'USB 2.0 Micro SD Card Reader - 2pcs Black/Red', 'Cartridge Refill Ink For Hp, Epson and Canon Inkjet Printers - 250ml - Black', 'Universal Mouse Pad - Black', 'Hsdpa Universal 3.75 Wireless Modem', 'Hp Optical Wireless Mouse - Black', 'Wireless Game Controller With Dual Vibration & Joysticks - Black', 'Durable Wireless Keyboard & Mouse Combo - White', 'Keyboard & Mouse Combo - White', 'Mini Wireless Keyboard & Mouse - Black', 'Black Mouse Mat Pad 24*20*0.15cm Antislip', 'V1 gaming headset, available for PS4 and PC', 'Cartridge Refill Ink For Hp, Epson and Canon Inkjet Printers - 250ml - Black', '2.4G Wireless Keyboard & Mouse - Black', 'Logitech Wireless Optical Mouse - Black/Grey + Free Earphones']\n"
     ]
    }
   ],
   "source": [
    "# find product name by XPath\n",
    "product = [name.text for name in driver.find_elements_by_xpath(\"//h3\")]\n",
    "print(product)"
   ]
  },
  {
   "cell_type": "code",
   "execution_count": 6,
   "id": "f32ef61f",
   "metadata": {},
   "outputs": [
    {
     "name": "stderr",
     "output_type": "stream",
     "text": [
      "<ipython-input-6-2a41472de012>:2: DeprecationWarning: find_elements_by_xpath is deprecated. Please use find_elements(by=By.XPATH, value=xpath) instead\n",
      "  price = [price.text for price in driver.find_elements_by_xpath(\"//div[@class='prc']\")]\n"
     ]
    },
    {
     "name": "stdout",
     "output_type": "stream",
     "text": [
      "['GH₵ 65.00', 'GH₵ 57.00', 'GH₵ 141.00', 'GH₵ 24.00', 'GH₵ 9.00', 'GH₵ 28.00', 'GH₵ 84.60', 'GH₵ 175.00', 'GH₵ 56.00', 'GH₵ 24.00', 'GH₵ 38.00', 'GH₵ 85.00', 'GH₵ 55.00', 'GH₵ 13.00', 'GH₵ 42.00', 'GH₵ 42.30', 'GH₵ 20.00', 'GH₵ 59.00', 'GH₵ 11.00', 'GH₵ 16.90', 'GH₵ 50.00', 'GH₵ 62.98', 'GH₵ 36.00', 'GH₵ 148.00', 'GH₵ 59.00', 'GH₵ 41.00', 'GH₵ 37.00', 'GH₵ 62.00', 'GH₵ 23.00', 'GH₵ 385.00', 'GH₵ 38.50', 'GH₵ 59.00', 'GH₵ 189.00', 'GH₵ 14.00', 'GH₵ 19.00', 'GH₵ 35.00', 'GH₵ 90.00', 'GH₵ 18.00', 'GH₵ 45.00', 'GH₵ 25.00', 'GH₵ 52.00', 'GH₵ 29.50', 'GH₵ 84.00', 'GH₵ 60.00', 'GH₵ 57.00', 'GH₵ 57.00', 'GH₵ 16.90', 'GH₵ 148.00', 'GH₵ 45.00', 'GH₵ 60.00', 'GH₵ 73.00']\n"
     ]
    }
   ],
   "source": [
    "# find product price by XPath\n",
    "price = [price.text for price in driver.find_elements_by_xpath(\"//div[@class='prc']\")]\n",
    "print(price)"
   ]
  },
  {
   "cell_type": "code",
   "execution_count": 7,
   "id": "73deb0d0",
   "metadata": {},
   "outputs": [
    {
     "name": "stderr",
     "output_type": "stream",
     "text": [
      "<ipython-input-7-1160f9f9c7c7>:2: DeprecationWarning: find_elements_by_xpath is deprecated. Please use find_elements(by=By.XPATH, value=xpath) instead\n",
      "  link = [url.text for url in driver.find_elements_by_xpath(\"//a[@href]\")]\n"
     ]
    },
    {
     "name": "stdout",
     "output_type": "stream",
     "text": [
      "['', 'Sell on Jumia', '', '', '', '', '', '', '', '', '', '', '', '', '', '', '', '', '', '', '', '', '', '', '', '', '', '', '', '', '', '', '', '', '', '', '', '', '', '', '', '', '', '', '', '', '', '', '', '', '', '', '', '', '', '', '', '', '', '', '', '', '', '', '', '', '', '', '', '', '', '', '', '', '', '', '', '', '', '', '', '', '', '', '', '', '', '', '', '', '', '', '', '', '', '', '', '', '', '', '', '', '', '', '', '', '', '', '', '', '', '', '', '', '', '', '', '', '', '', '', '', '', '', '', '', '', '', '', '', '', '', '', '', '', '', '', '', '', '', '', '', '', '', '', '', '', '', '', '', '', '', '', '', '', '', '', '', '', '', '', '', '', '', '', '', '', '', '', '', '', '', '', '', '', '', '', '', '', '', '', '', '', '', '', '', '', '', '', '', '', '', '', '', '', '', '', '', '', '', '', '', '', '', '', '', '', '', '', '', '', '', '', '', '', '', '', '', '', '', '', '', '', '', '', '', '', '', '', '', '', '', '', '', '', '', '', '', '', '', '', '', '', '', '', '', '', '', '', '', '', '', '', '', '', '', '', '', '', '', '', '', '', '', '', '', '', '', '', '', '', '', '', '', '', '', '', '', '', '', '', '', '', '', '', '', '', '', '', '', '', '', '', '', '', '', '', '', '', '', '', '', '', '', '', '', '', '', '', '', '', '', '', '', '', '', '', '', '', '', '', '', '', '', '', '', '', '', '', '', '', '', 'Cart', 'Privacy and Cookie notice', 'Home', 'Computing', 'SEE ALL', 'Wireless Keyboard & Mouse Combo - Black + Free AAA Battery\\nGH₵ 65.00\\n27%', 'Mini Wireless Keyboard & Mouse - Black\\nGH₵ 57.00\\n19%', 'XIAOMI Mi Dual Mode Wireless Mouse - White\\nGH₵ 141.00\\n7%', 'Computing', 'Computer Peripherals & Accessories', 'Audio & Video Accessories', 'Blank Media', 'Cable Security Devices', 'Cables & Interconnects', 'Cleaning & Repair', 'Computer Cable Adapters', 'Game Hardware', 'Hard Drive Accessories', 'Input Devices', 'Keyboards, Mice & Accessories', 'Memory Card Accessories', 'Memory Cards', 'Monitor Accessories', 'Printer Accessories', 'Printer Ink & Toner', 'Uninterrupted Power Supply (UPS)', 'USB Gadgets', 'Video Projector Accessories', 'Networking Accessories', '7pin', 'Adata', 'Aigo', 'A jazz', 'Apc', 'Asta', 'Banda', 'Bigtreetech', 'Bobo VR', 'Bosto', 'Boya', 'BUBM', 'Canon', 'Case Logic', 'Comfast', 'COMPATIBLE', 'Contact', 'DELL', 'Delux', 'Docooler', 'Dodocool', 'Epson', 'Fashion', 'Fd', 'Fude', 'General', 'Generic', 'Hp', 'Huion', 'Hxsj', 'Imation', 'Imice', 'Inform', 'Inphic', 'Intel', 'Ipega', 'Jakemy', 'Jedel', 'Kawau', 'Kingdian', 'Kingspec', 'Kingston', 'Kkmoon', 'Kodak', 'Ldnio', 'Lenovo', 'Lexar', 'Logitech', 'Maiwo', 'Mercury', 'Microdrive', 'Microsoft', 'Mofii', 'Motospeed', 'Muslady', 'Netac', 'No Brand', 'Onikuma', 'Orico', 'Oscoo', 'Panasonic', 'Paperang', 'Pccooler', 'Pcsensor', 'Pheatz', 'Premax', 'Prestige', 'Proffisy', 'Puluz', 'Qcy', 'Raoop', 'Rapoo', 'Razer', 'Rii', 'Sada', 'Samdi', 'Samsung', 'Seagate', 'Takstar', 'Targus', 'TECHCOM', 'TECLAST', 'Thule', 'Toshiba', 'UCOM', 'Ugreen', 'VEIKK', 'Vention', 'Verbatim', 'WD', 'Wechip', 'Weibo', 'White Label', 'Wireless', 'XIAOMI', 'Yamaha', 'Yoobao', 'Yvonne', 'ZELOTES', 'ZERODATE', '32', 'Yellow', '0', '4GB', '32', '64', '128GB', '1000', '4 out of 5\\n& above', '3 out of 5\\n& above', '2 out of 5\\n& above', '1 out of 5\\n& above', 'Shipped from Ghana', 'Shipped from abroad', '80% or more', '60% or more', '40% or more', '20% or more', '', '80% or more', '70% or more', '50% or more', '20% or more', '10% or more', '', '', '', '', '', '', '', 'Hxsj USB Wired Optical Colorful Light Gaming Mouse\\nGH₵ 24.00\\nGH₵ 47.00\\n49%\\n4.6 out of 5\\n(24)\\nEligible for free next day delivery for orders above GHS 80 in Accra and Kumasi (Excluding large items)', '4-Ports High Speed Data Transfer Rate USB Hub\\nGH₵ 9.00\\nGH₵ 18.00\\n50%\\n3.6 out of 5\\n(9)\\nEligible for free next day delivery for orders above GHS 80 in Accra and Kumasi (Excluding large items)', 'M30 Rechargeable 2.4GHz Wireless Mouse - Silver\\nGH₵ 28.00\\nGH₵ 55.00\\n49%\\n4.6 out of 5\\n(208)\\nEligible for free next day delivery for orders above GHS 80 in Accra and Kumasi (Excluding large items)', 'Soft Touch Wireless Keyboard & Mouse Combo - Black + Free BT Headphone\\nGH₵ 84.60\\nGH₵ 96.00\\n12%\\n4.4 out of 5\\n(41)', 'ammoon Dual Channel VHF Wireless Handheld Microphone System\\nGH₵ 175.00\\nGH₵ 343.00\\n49%\\n4.6 out of 5\\n(11)\\nEligible for free next day delivery for orders above GHS 80 in Accra and Kumasi (Excluding large items)', 'Wireless Keyboard with Mouse Combo - Black\\nGH₵ 56.00\\nGH₵ 60.00\\n7%\\n4.6 out of 5\\n(16)', 'DELL Wireless Slim Optical Mouse - Black\\nGH₵ 24.00\\nGH₵ 40.00\\n40%\\n4 out of 5\\n(14)', 'DELL Wireless Optical Mouse - Black Plus Free Earpiece And Battery\\nGH₵ 38.00\\nGH₵ 80.00\\n53%\\n4.2 out of 5\\n(24)', 'Wireless Keyboard & Mouse Combo - Black + Free 64GB Pendrive\\nGH₵ 85.00\\nGH₵ 120.00\\n29%\\n4.1 out of 5\\n(27)', 'Mini Wireless Keyboard/Touchpad with Backlight - Black\\nGH₵ 55.00\\nGH₵ 70.00\\n21%\\noffers from\\n4.3 out of 5\\n(51)', 'Mini AV2VGA Video Converter Convertor Box AV RCA CVBS to VGA\\nGH₵ 13.00\\nGH₵ 25.00\\n48%\\n4.2 out of 5\\n(9)\\nEligible for free next day delivery for orders above GHS 80 in Accra and Kumasi (Excluding large items)', '1080P HDMI To VGA Adapter Converter Cable\\nGH₵ 42.00\\nGH₵ 82.00\\n49%\\n4.2 out of 5\\n(21)\\nEligible for free next day delivery for orders above GHS 80 in Accra and Kumasi (Excluding large items)', 'Toshiba 3.0 USB External Hard Disk Enclosure Case - Black\\nGH₵ 42.30\\nGH₵ 50.00\\n15%\\n4.2 out of 5\\n(51)', '5-in-1 USB Hub Combo Splitter\\nGH₵ 20.00\\nGH₵ 40.00\\n50%\\n4.5 out of 5\\n(2)\\nEligible for free next day delivery for orders above GHS 80 in Accra and Kumasi (Excluding large items)', 'Mini Wireless Bluetooth Keyboard - Android IOS Windows - 7 Inch\\nGH₵ 59.00\\nGH₵ 116.00\\n49%\\n4.5 out of 5\\n(16)\\nEligible for free next day delivery for orders above GHS 80 in Accra and Kumasi (Excluding large items)', 'USB3.0 To VGA Adapter USB to VGA External Video Card\\nGH₵ 11.00\\nGH₵ 22.00\\n50%\\n3.9 out of 5\\n(9)\\nEligible for free next day delivery for orders above GHS 80 in Accra and Kumasi (Excluding large items)', 'Black Mouse Mat Pad 24*20*0.15cm Antislip\\nGH₵ 16.90\\nGH₵ 35.00\\n52%\\n4.5 out of 5\\n(12)\\nEligible for free next day delivery for orders above GHS 80 in Accra and Kumasi (Excluding large items)', 'Shipped from abroad\\nKKmoon 2.4GHz Wireless PowerPoint Clicker Remote Controller\\nGH₵ 50.00\\nGH₵ 98.00\\n49%\\n4.2 out of 5\\n(19)', 'Wireless Keyboard & Mouse Combo + Free Wired Headphone - Black\\nGH₵ 62.98\\nGH₵ 100.00\\n37%\\n3.9 out of 5\\n(44)', '1080P HDMI Male To Dual HDMI Female 1 To 2 Way Splitter Cable Adapter Converter\\nGH₵ 36.00\\nGH₵ 48.00\\n25%\\n3.3 out of 5\\n(9)\\nEligible for free next day delivery for orders above GHS 80 in Accra and Kumasi (Excluding large items)', 'Hp 123 Ink Cartridge - Black\\nGH₵ 148.00\\nGH₵ 196.00\\n24%\\noffers from\\n4.1 out of 5\\n(37)', 'Hp Wireless Keyboard and Mouse CS700 - Black\\nGH₵ 59.00\\nGH₵ 95.00\\n38%\\n4.1 out of 5\\n(15)', 'Logitech Silent Wireless Mouse - Black + Free Mouse Pad\\nGH₵ 41.00\\nGH₵ 60.00\\n32%\\n4.6 out of 5\\n(10)', 'Shipped from abroad\\nMouse Pad Desk Mat Extra Large Soft Extended Non Slip\\nGH₵ 37.00\\nGH₵ 71.00\\n48%\\n3.5 out of 5\\n(4)', 'Mini Computer Speaker 3D Stereo Sound Surround For PC Laptop Notebook\\nGH₵ 62.00\\nGH₵ 99.00\\n37%\\n4 out of 5\\n(9)\\nEligible for free next day delivery for orders above GHS 80 in Accra and Kumasi (Excluding large items)', 'USB 3.0 Adapter For Laptop OTG Memory SD Card Reader\\nGH₵ 23.00\\nGH₵ 45.00\\n49%\\n3.8 out of 5\\n(5)\\nEligible for free next day delivery for orders above GHS 80 in Accra and Kumasi (Excluding large items)', 'Mercury Elite 850va Pro Line Interactive UPS - Black\\nGH₵ 385.00\\nGH₵ 555.00\\n31%\\n4.1 out of 5\\n(14)', 'UCOM Vibration USB Wired Gamepad - Black\\nGH₵ 38.50\\nGH₵ 100.00\\n62%\\n3.7 out of 5\\n(14)', 'USB 3.0 Adapter Converter Cable Easy Drive Line to SATA3 2.5/3.5 Hard Disk Read IPFS Adapter\\nGH₵ 59.00\\nGH₵ 129.00\\n54%\\n5 out of 5\\n(2)\\nEligible for free next day delivery for orders above GHS 80 in Accra and Kumasi (Excluding large items)', 'Shipped from abroad\\nBosto 10\"x6\" Controller Knob Graphic Tablet Kit 8 Express Keys\\nGH₵ 189.00\\nGH₵ 371.00\\n49%\\n3.8 out of 5\\n(5)', 'Lenovo M20 USB Optical Mouse - Black\\nGH₵ 14.00\\nGH₵ 18.00\\n22%\\noffers from\\n4 out of 5\\n(88)', 'Multipurpose Micro SD /USB OTG - white\\nGH₵ 19.00\\nGH₵ 35.00\\n46%\\n3.8 out of 5\\n(12)', 'Hp Wireless Mouse - Black\\nGH₵ 35.00\\nGH₵ 50.00\\n30%\\noffers from\\n4 out of 5\\n(197)', 'Wireless Keyboard & Mouse Combo - Black + FREE Bluetooth Speaker - Black\\nGH₵ 90.00\\nGH₵ 450.00\\n80%\\n4 out of 5\\n(23)', 'USB 2.0 Micro SD Card Reader - 2pcs Black/Red\\nGH₵ 18.00\\nGH₵ 30.00\\n40%\\n5 out of 5\\n(2)', 'Cartridge Refill Ink For Hp, Epson and Canon Inkjet Printers - 250ml - Black\\nGH₵ 45.00\\n4.1 out of 5\\n(8)', 'Universal Mouse Pad - Black\\nGH₵ 25.00\\nGH₵ 53.00\\n53%\\n4.6 out of 5\\n(12)', 'Hsdpa Universal 3.75 Wireless Modem\\nGH₵ 52.00\\nGH₵ 80.00\\n35%\\n3.4 out of 5\\n(34)', 'Hp Optical Wireless Mouse - Black\\nGH₵ 29.50\\nGH₵ 63.00\\n53%\\noffers from\\n4.1 out of 5\\n(103)\\nEligible for free next day delivery for orders above GHS 80 in Accra and Kumasi (Excluding large items)', 'Wireless Game Controller With Dual Vibration & Joysticks - Black\\nGH₵ 84.00\\nGH₵ 153.00\\n45%\\noffers from\\n3.9 out of 5\\n(74)', 'Durable Wireless Keyboard & Mouse Combo - White\\nGH₵ 60.00\\nGH₵ 100.00\\n40%\\n3.5 out of 5\\n(4)', 'Keyboard & Mouse Combo - White\\nGH₵ 57.00\\nGH₵ 80.00\\n29%\\n4.4 out of 5\\n(18)', 'Mini Wireless Keyboard & Mouse - Black\\nGH₵ 57.00\\nGH₵ 70.00\\n19%\\noffers from\\n4.2 out of 5\\n(125)', 'Black Mouse Mat Pad 24*20*0.15cm Antislip\\nGH₵ 16.90\\nGH₵ 35.00\\n52%\\n4.5 out of 5\\n(12)\\nEligible for free next day delivery for orders above GHS 80 in Accra and Kumasi (Excluding large items)', 'V1 gaming headset, available for PS4 and PC\\nGH₵ 148.00\\nGH₵ 290.00\\n49%\\nEligible for free next day delivery for orders above GHS 80 in Accra and Kumasi (Excluding large items)', 'Cartridge Refill Ink For Hp, Epson and Canon Inkjet Printers - 250ml - Black\\nGH₵ 45.00\\n4.1 out of 5\\n(8)', '2.4G Wireless Keyboard & Mouse - Black\\nGH₵ 60.00\\nGH₵ 100.00\\n40%\\n4 out of 5\\n(5)', 'Logitech Wireless Optical Mouse - Black/Grey + Free Earphones\\nGH₵ 73.00\\nGH₵ 130.00\\n44%', '2', '3', '', '', 'printers', 'network accessories', 'Laptop', '', '', '', 'Help Center', 'How to buy on Jumia', 'Delivery timelines and fees', 'Return Policy', 'Corporate and Bulk Purchases', 'Report a Product', 'About us', 'Testimonials', 'Jumia careers', 'Terms and Conditions', 'Privacy and Cookie Notice', 'Stay informed about Corona virus', 'Stay Safe', 'Ship your products with Jumia', 'Black Friday', 'Sell on Jumia', 'Service charges', 'Become a Sales Consultant', 'Become a Logistics Service Partner', 'Algerie', \"Côte d'Ivoire\", 'Egypt', 'Kenya', 'Maroc', 'Nigeria', 'Senegal', 'Tunisia', 'Uganda', '', '', '', '', '', '', '', '', '', '', '']\n"
     ]
    }
   ],
   "source": [
    "# find links by XPath\n",
    "link = [url.text for url in driver.find_elements_by_xpath(\"//a[@href]\")]\n",
    "print(link)"
   ]
  },
  {
   "cell_type": "code",
   "execution_count": null,
   "id": "da9d6331",
   "metadata": {},
   "outputs": [],
   "source": []
  }
 ],
 "metadata": {
  "kernelspec": {
   "display_name": "Python 3",
   "language": "python",
   "name": "python3"
  },
  "language_info": {
   "codemirror_mode": {
    "name": "ipython",
    "version": 3
   },
   "file_extension": ".py",
   "mimetype": "text/x-python",
   "name": "python",
   "nbconvert_exporter": "python",
   "pygments_lexer": "ipython3",
   "version": "3.8.8"
  }
 },
 "nbformat": 4,
 "nbformat_minor": 5
}
