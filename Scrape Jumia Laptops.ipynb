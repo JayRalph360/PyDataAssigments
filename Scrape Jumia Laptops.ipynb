{
 "cells": [
  {
   "cell_type": "code",
   "execution_count": 1,
   "id": "8a433f2b",
   "metadata": {},
   "outputs": [],
   "source": [
    "from urllib.request import Request, urlopen\n",
    "from bs4 import BeautifulSoup"
   ]
  },
  {
   "cell_type": "code",
   "execution_count": 2,
   "id": "890f4595",
   "metadata": {},
   "outputs": [],
   "source": [
    "url = \"https://www.jumia.com.gh/laptops/\"\n",
    "headers = {\"User-Agent\": \"Mozilla/6.0\"}"
   ]
  },
  {
   "cell_type": "code",
   "execution_count": 4,
   "id": "8a777acc",
   "metadata": {},
   "outputs": [],
   "source": [
    "result = Request(url, headers=headers)\n",
    "webpage = urlopen(result).read()\n",
    "# print(webpage)"
   ]
  },
  {
   "cell_type": "code",
   "execution_count": 6,
   "id": "7382ebb6",
   "metadata": {},
   "outputs": [],
   "source": [
    "page = BeautifulSoup(webpage, \"html.parser\")\n",
    "# print(page.prettify())"
   ]
  },
  {
   "cell_type": "code",
   "execution_count": 8,
   "id": "6e2b2d3e",
   "metadata": {},
   "outputs": [],
   "source": [
    "# Get info about laptops from the webpage\n",
    "laptop_details = page.find('div', class_=\"-paxs row _no-g _4cl-3cm-shs\")\n",
    "# print(laptop_details)"
   ]
  },
  {
   "cell_type": "code",
   "execution_count": 9,
   "id": "1f203a65",
   "metadata": {},
   "outputs": [],
   "source": [
    "# Get the name of all the laptops\n",
    "laptop_names = [names.text.strip() for names in laptop_details if names.text.strip() != '']\n",
    "# print(laptop_names)\n",
    "\n",
    "# Get the price of all the laptops\n",
    "laptop_prices = [prices.text.strip() for prices in laptop_details.find_all(\"div\", class_=\"prc\") if prices.text.strip() != '']\n",
    "# print(laptop_prices)"
   ]
  },
  {
   "cell_type": "code",
   "execution_count": 10,
   "id": "20d902d2",
   "metadata": {},
   "outputs": [],
   "source": [
    "# Get the name of laptop together with price\n",
    "names_and_prices = [(laptop_names[i],laptop_prices[i]) for i in range(len(laptop_names))]\n",
    "# print(names_and_prices)"
   ]
  },
  {
   "cell_type": "code",
   "execution_count": 11,
   "id": "2e1f2dfd",
   "metadata": {},
   "outputs": [
    {
     "data": {
      "text/html": [
       "<div>\n",
       "<style scoped>\n",
       "    .dataframe tbody tr th:only-of-type {\n",
       "        vertical-align: middle;\n",
       "    }\n",
       "\n",
       "    .dataframe tbody tr th {\n",
       "        vertical-align: top;\n",
       "    }\n",
       "\n",
       "    .dataframe thead th {\n",
       "        text-align: right;\n",
       "    }\n",
       "</style>\n",
       "<table border=\"1\" class=\"dataframe\">\n",
       "  <thead>\n",
       "    <tr style=\"text-align: right;\">\n",
       "      <th></th>\n",
       "      <th>Laptop</th>\n",
       "      <th>Price</th>\n",
       "    </tr>\n",
       "  </thead>\n",
       "  <tbody>\n",
       "    <tr>\n",
       "      <th>0</th>\n",
       "      <td>Hp Laptop 15.6” - Intel Celeron Core 2 Duo - 4...</td>\n",
       "      <td>GH₵ 1,571.70</td>\n",
       "    </tr>\n",
       "    <tr>\n",
       "      <th>1</th>\n",
       "      <td>Lenovo V14-IGL -14.0″ -  Intel N4020 - 4GB DDR...</td>\n",
       "      <td>GH₵ 2,295.00</td>\n",
       "    </tr>\n",
       "    <tr>\n",
       "      <th>2</th>\n",
       "      <td>Hp Laptop - Intel Celeron Core 2 Duo - 4G RAM ...</td>\n",
       "      <td>GH₵ 1,656.00</td>\n",
       "    </tr>\n",
       "    <tr>\n",
       "      <th>3</th>\n",
       "      <td>Apple 2020 MacBook Pro - 512GB SSD 8GB RAM -13...</td>\n",
       "      <td>GH₵ 8,900.00</td>\n",
       "    </tr>\n",
       "    <tr>\n",
       "      <th>4</th>\n",
       "      <td>Hp Laptop 14 - cf2187nia 10th Generation Intel...</td>\n",
       "      <td>GH₵ 2,899.00</td>\n",
       "    </tr>\n",
       "  </tbody>\n",
       "</table>\n",
       "</div>"
      ],
      "text/plain": [
       "                                              Laptop         Price\n",
       "0  Hp Laptop 15.6” - Intel Celeron Core 2 Duo - 4...  GH₵ 1,571.70\n",
       "1  Lenovo V14-IGL -14.0″ -  Intel N4020 - 4GB DDR...  GH₵ 2,295.00\n",
       "2  Hp Laptop - Intel Celeron Core 2 Duo - 4G RAM ...  GH₵ 1,656.00\n",
       "3  Apple 2020 MacBook Pro - 512GB SSD 8GB RAM -13...  GH₵ 8,900.00\n",
       "4  Hp Laptop 14 - cf2187nia 10th Generation Intel...  GH₵ 2,899.00"
      ]
     },
     "execution_count": 11,
     "metadata": {},
     "output_type": "execute_result"
    }
   ],
   "source": [
    "import pandas as pd\n",
    "columns = ['Laptop', 'Price']\n",
    "df = pd.DataFrame.from_records(data=names_and_prices, columns=columns)\n",
    "df.head()"
   ]
  },
  {
   "cell_type": "code",
   "execution_count": 14,
   "id": "7c7e3068",
   "metadata": {},
   "outputs": [],
   "source": [
    "df.to_csv(\"Jumia laptops.csv\")"
   ]
  },
  {
   "cell_type": "code",
   "execution_count": null,
   "id": "dce52baa",
   "metadata": {},
   "outputs": [],
   "source": []
  }
 ],
 "metadata": {
  "kernelspec": {
   "display_name": "Python 3",
   "language": "python",
   "name": "python3"
  },
  "language_info": {
   "codemirror_mode": {
    "name": "ipython",
    "version": 3
   },
   "file_extension": ".py",
   "mimetype": "text/x-python",
   "name": "python",
   "nbconvert_exporter": "python",
   "pygments_lexer": "ipython3",
   "version": "3.8.8"
  }
 },
 "nbformat": 4,
 "nbformat_minor": 5
}
